version https://git-lfs.github.com/spec/v1
oid sha256:243627db8a30ad95cb7e9c07ac868f1ba6b9433d03b4a516a6f0bbc5166c59f8
size 6439078
